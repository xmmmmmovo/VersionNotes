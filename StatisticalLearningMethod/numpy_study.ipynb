{
 "cells": [
  {
   "cell_type": "code",
   "execution_count": 8,
   "metadata": {},
   "outputs": [],
   "source": [
    "import numpy as np"
   ]
  },
  {
   "cell_type": "markdown",
   "metadata": {},
   "source": [
    "# 基本操作"
   ]
  },
  {
   "cell_type": "code",
   "execution_count": 3,
   "metadata": {},
   "outputs": [
    {
     "name": "stdout",
     "output_type": "stream",
     "text": [
      "<class 'numpy.ndarray'>\n",
      "(3,)\n",
      "1 2 3\n",
      "[0 2 3]\n",
      "(2, 3)\n",
      "1\n"
     ]
    }
   ],
   "source": [
    "a = np.array([1, 2, 3])\n",
    "print(type(a))\n",
    "# 维度(一维就只有一个维度，二维就有如(n, m)这样得维度，高维同理)\n",
    "print(a.shape)\n",
    "print(a[0], a[1], a[2]) # 访问不同元素\n",
    "a[0] = 0\n",
    "print(a)\n",
    "\n",
    "b = np.array([[1, 2, 3], [4, 5, 6]]) # 二维(这里不要忘了是两个[]嵌套)\n",
    "print(b.shape)\n",
    "print(b[0, 0])"
   ]
  },
  {
   "cell_type": "markdown",
   "metadata": {},
   "source": [
    "# 创建矩阵"
   ]
  },
  {
   "cell_type": "code",
   "execution_count": 7,
   "metadata": {
    "scrolled": false
   },
   "outputs": [
    {
     "name": "stdout",
     "output_type": "stream",
     "text": [
      "[[0. 0. 0. 0. 0.]\n",
      " [0. 0. 0. 0. 0.]\n",
      " [0. 0. 0. 0. 0.]\n",
      " [0. 0. 0. 0. 0.]\n",
      " [0. 0. 0. 0. 0.]]\n",
      "[[1. 1. 1. 1. 1.]\n",
      " [1. 1. 1. 1. 1.]\n",
      " [1. 1. 1. 1. 1.]\n",
      " [1. 1. 1. 1. 1.]\n",
      " [1. 1. 1. 1. 1.]]\n",
      "[[7 7 7 7 7]\n",
      " [7 7 7 7 7]\n",
      " [7 7 7 7 7]\n",
      " [7 7 7 7 7]\n",
      " [7 7 7 7 7]]\n",
      "[[1. 0. 0. 0. 0.]\n",
      " [0. 1. 0. 0. 0.]\n",
      " [0. 0. 1. 0. 0.]\n",
      " [0. 0. 0. 1. 0.]\n",
      " [0. 0. 0. 0. 1.]]\n",
      "[[0.9477381  0.92558953 0.24410223 0.4953216  0.26090443]\n",
      " [0.98806913 0.98373477 0.4667734  0.73090304 0.71642852]\n",
      " [0.73517835 0.79693692 0.91329338 0.86807194 0.67480962]\n",
      " [0.21534385 0.57496304 0.6149117  0.06894214 0.60333022]\n",
      " [0.14642873 0.55744271 0.64144791 0.63639868 0.22577419]]\n"
     ]
    }
   ],
   "source": [
    "# 矩阵函数\n",
    "\n",
    "a = np.zeros((5, 5)) # 这里也别忘了是两个()嵌套\n",
    "print(a)\n",
    "\n",
    "b = np.ones((5, 5))\n",
    "print(b)\n",
    "\n",
    "# 常数矩阵\n",
    "c = np.full((5, 5), 7)\n",
    "print(c)\n",
    "\n",
    "# 单位矩阵\n",
    "d = np.eye(5)\n",
    "print(d)\n",
    "\n",
    "# 随机数矩阵\n",
    "e = np.random.random((5, 5))\n",
    "print(e)"
   ]
  },
  {
   "cell_type": "markdown",
   "metadata": {},
   "source": [
    "# 索引"
   ]
  },
  {
   "cell_type": "markdown",
   "metadata": {},
   "source": [
    "## 切片\n",
    "矩阵格式\n",
    "\n",
    "1 2 3 4\n",
    "\n",
    "5 6 7 8\n",
    "\n",
    "9 10 11 12\n",
    "\n",
    "[:2, 1: 3]的意思是\n",
    "\n",
    "切出前两行\n",
    "\n",
    "3 - 1列(这里就是后 - 前)</br>\n",
    "\n",
    "这里切的时候取前不取后"
   ]
  },
  {
   "cell_type": "code",
   "execution_count": 15,
   "metadata": {},
   "outputs": [
    {
     "name": "stdout",
     "output_type": "stream",
     "text": [
      "2\n",
      "[[2 3]\n",
      " [6 7]]\n",
      "77\n"
     ]
    }
   ],
   "source": [
    "a = np.array([[1, 2, 3, 4], [5, 6, 7, 8], [9, 10, 11, 12]])\n",
    "\n",
    "b = a[:2, 1: 3]\n",
    "\n",
    "print(a[0, 1])\n",
    "print(b)\n",
    "b[0, 0]  = 77\n",
    "print(a[0, 1])"
   ]
  },
  {
   "cell_type": "code",
   "execution_count": 19,
   "metadata": {},
   "outputs": [
    {
     "name": "stdout",
     "output_type": "stream",
     "text": [
      "[5 6 7 8] (4,)\n",
      "[[5 6 7 8]] (1, 4)\n",
      "\n",
      "[ 2  6 10] (3,)\n",
      "[[ 2]\n",
      " [ 6]\n",
      " [10]] (3, 1)\n"
     ]
    }
   ],
   "source": [
    "# 两种获取中间行数据的方法\n",
    "# 将整数索引与切片混合，得到一个较低等级的矩阵\n",
    "# 只使用切片产生一个与原始矩阵相同等级的矩阵\n",
    "row_r1 = a[1, :]    # 第一种\n",
    "row_r2 = a[1:2, :]  # 第二种\n",
    "print(row_r1, row_r1.shape)  # 相当于变成一维矩阵了\n",
    "print(row_r2, row_r2.shape)  # 这里还是二维矩阵\n",
    "\n",
    "print()\n",
    "col_r1 = a[:, 1]\n",
    "col_r2 = a[:, 1:2]\n",
    "print(col_r1, col_r1.shape)\n",
    "print(col_r2, col_r2.shape) "
   ]
  },
  {
   "cell_type": "code",
   "execution_count": null,
   "metadata": {},
   "outputs": [],
   "source": []
  }
 ],
 "metadata": {
  "kernelspec": {
   "display_name": "Python 3",
   "language": "python",
   "name": "python3"
  },
  "language_info": {
   "codemirror_mode": {
    "name": "ipython",
    "version": 3
   },
   "file_extension": ".py",
   "mimetype": "text/x-python",
   "name": "python",
   "nbconvert_exporter": "python",
   "pygments_lexer": "ipython3",
   "version": "3.7.1"
  }
 },
 "nbformat": 4,
 "nbformat_minor": 2
}

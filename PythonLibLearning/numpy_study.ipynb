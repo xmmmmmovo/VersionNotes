{
 "cells": [
  {
   "cell_type": "code",
   "execution_count": 1,
   "metadata": {},
   "outputs": [],
   "source": [
    "import numpy as np"
   ]
  },
  {
   "cell_type": "markdown",
   "metadata": {},
   "source": [
    "# 基本操作"
   ]
  },
  {
   "cell_type": "code",
   "execution_count": 2,
   "metadata": {},
   "outputs": [
    {
     "name": "stdout",
     "output_type": "stream",
     "text": [
      "<class 'numpy.ndarray'>\n",
      "(3,)\n",
      "1 2 3\n",
      "[0 2 3]\n",
      "(2, 3)\n",
      "1\n"
     ]
    }
   ],
   "source": [
    "a = np.array([1, 2, 3])\n",
    "print(type(a))\n",
    "# 维度(一维就只有一个维度，二维就有如(n, m)这样得维度，高维同理)\n",
    "print(a.shape)\n",
    "print(a[0], a[1], a[2]) # 访问不同元素\n",
    "a[0] = 0\n",
    "print(a)\n",
    "\n",
    "b = np.array([[1, 2, 3], [4, 5, 6]]) # 二维(这里不要忘了是两个[]嵌套)\n",
    "print(b.shape)\n",
    "print(b[0, 0])"
   ]
  },
  {
   "cell_type": "markdown",
   "metadata": {},
   "source": [
    "# 创建矩阵"
   ]
  },
  {
   "cell_type": "code",
   "execution_count": 3,
   "metadata": {
    "scrolled": false
   },
   "outputs": [
    {
     "name": "stdout",
     "output_type": "stream",
     "text": [
      "[[0. 0. 0. 0. 0.]\n",
      " [0. 0. 0. 0. 0.]\n",
      " [0. 0. 0. 0. 0.]\n",
      " [0. 0. 0. 0. 0.]\n",
      " [0. 0. 0. 0. 0.]]\n",
      "[[1. 1. 1. 1. 1.]\n",
      " [1. 1. 1. 1. 1.]\n",
      " [1. 1. 1. 1. 1.]\n",
      " [1. 1. 1. 1. 1.]\n",
      " [1. 1. 1. 1. 1.]]\n",
      "[[7 7 7 7 7]\n",
      " [7 7 7 7 7]\n",
      " [7 7 7 7 7]\n",
      " [7 7 7 7 7]\n",
      " [7 7 7 7 7]]\n",
      "[[1. 0. 0. 0. 0.]\n",
      " [0. 1. 0. 0. 0.]\n",
      " [0. 0. 1. 0. 0.]\n",
      " [0. 0. 0. 1. 0.]\n",
      " [0. 0. 0. 0. 1.]]\n",
      "[[0.60221253 0.66178332 0.77857768 0.60382713 0.06417951]\n",
      " [0.28570422 0.16869901 0.87171842 0.988552   0.87796264]\n",
      " [0.87724836 0.97435563 0.09027111 0.97954867 0.03763745]\n",
      " [0.00695894 0.25133004 0.92949946 0.95193699 0.83070219]\n",
      " [0.33295312 0.90004502 0.63727541 0.94062916 0.47727063]]\n"
     ]
    }
   ],
   "source": [
    "# 矩阵函数\n",
    "\n",
    "a = np.zeros((5, 5)) # 这里也别忘了是两个()嵌套\n",
    "print(a)\n",
    "\n",
    "b = np.ones((5, 5))\n",
    "print(b)\n",
    "\n",
    "# 常数矩阵\n",
    "c = np.full((5, 5), 7)\n",
    "print(c)\n",
    "\n",
    "# 单位矩阵\n",
    "d = np.eye(5)\n",
    "print(d)\n",
    "\n",
    "# 随机数矩阵\n",
    "e = np.random.random((5, 5))\n",
    "print(e)"
   ]
  },
  {
   "cell_type": "markdown",
   "metadata": {},
   "source": [
    "# 索引"
   ]
  },
  {
   "cell_type": "markdown",
   "metadata": {},
   "source": [
    "## 切片\n",
    "矩阵格式<br>\n",
    "1 2 3 4<br>\n",
    "5 6 7 8<br>\n",
    "9 10 11 12<br>\n",
    "\n",
    "[:2, 1: 3]的意思是<br>\n",
    "切出前两行<br>\n",
    "3 - 1列(这里就是后 - 前)<br>\n",
    "这里切的时候取前不取后"
   ]
  },
  {
   "cell_type": "code",
   "execution_count": 4,
   "metadata": {},
   "outputs": [
    {
     "name": "stdout",
     "output_type": "stream",
     "text": [
      "2\n",
      "[[2 3]\n",
      " [6 7]]\n",
      "77\n"
     ]
    }
   ],
   "source": [
    "a = np.array([[1, 2, 3, 4], [5, 6, 7, 8], [9, 10, 11, 12]])\n",
    "\n",
    "b = a[:2, 1: 3]\n",
    "\n",
    "print(a[0, 1])\n",
    "print(b)\n",
    "b[0, 0]  = 77\n",
    "print(a[0, 1])"
   ]
  },
  {
   "cell_type": "markdown",
   "metadata": {},
   "source": [
    "#### 两种获取中间行数据的方法\n",
    "#### 将整数索引与切片混合，得到一个较低等级的矩阵\n",
    "#### 只使用切片产生一个与原始矩阵相同等级的矩阵"
   ]
  },
  {
   "cell_type": "code",
   "execution_count": 5,
   "metadata": {},
   "outputs": [
    {
     "name": "stdout",
     "output_type": "stream",
     "text": [
      "[5 6 7 8] (4,)\n",
      "[[5 6 7 8]] (1, 4)\n",
      "\n",
      "[77  6 10] (3,)\n",
      "[[77]\n",
      " [ 6]\n",
      " [10]] (3, 1)\n"
     ]
    }
   ],
   "source": [
    "row_r1 = a[1, :]    # 第一种\n",
    "row_r2 = a[1:2, :]  # 第二种\n",
    "print(row_r1, row_r1.shape)  # 相当于变成一维矩阵了\n",
    "print(row_r2, row_r2.shape)  # 这里还是二维矩阵\n",
    "\n",
    "print()\n",
    "col_r1 = a[:, 1]\n",
    "col_r2 = a[:, 1:2]\n",
    "print(col_r1, col_r1.shape)\n",
    "print(col_r2, col_r2.shape) "
   ]
  },
  {
   "cell_type": "markdown",
   "metadata": {},
   "source": [
    "#### 意思就是说：\n",
    "#### 切除出你想要得矩阵可以直接用整数索引"
   ]
  },
  {
   "cell_type": "code",
   "execution_count": 6,
   "metadata": {
    "scrolled": true
   },
   "outputs": [
    {
     "name": "stdout",
     "output_type": "stream",
     "text": [
      "[[1 2]\n",
      " [3 4]\n",
      " [5 6]]\n",
      "[1 4 5]\n",
      "[1 4 5]\n"
     ]
    }
   ],
   "source": [
    "a = np.array([[1, 2], [3, 4], [5, 6]])\n",
    "print(a)\n",
    "\n",
    "print(a[[0, 1, 2], [0, 1, 0]])  # Prints \"[1 4 5]\"\n",
    "# 上面得等效为下面得\n",
    "print(np.array([a[0, 0], a[1, 1], a[2, 0]]))"
   ]
  },
  {
   "cell_type": "markdown",
   "metadata": {},
   "source": [
    "#### 通过数组索引"
   ]
  },
  {
   "cell_type": "code",
   "execution_count": 7,
   "metadata": {
    "scrolled": true
   },
   "outputs": [
    {
     "name": "stdout",
     "output_type": "stream",
     "text": [
      "[[ 1  2  3]\n",
      " [ 4  5  6]\n",
      " [ 7  8  9]\n",
      " [10 11 12]]\n",
      "[ 1  6  7 11]\n",
      "[[11  2  3]\n",
      " [ 4  5 16]\n",
      " [17  8  9]\n",
      " [10 21 12]]\n"
     ]
    }
   ],
   "source": [
    "a = np.array([[1,2,3], [4,5,6], [7,8,9], [10, 11, 12]])\n",
    "\n",
    "print(a)\n",
    "\n",
    "# 创建索引数组\n",
    "b = np.array([0, 2, 0, 1])\n",
    "\n",
    "# 使用b中的索引从a的每一行中选择一个元素\n",
    "# 这里其实是跟上面的一样的\n",
    "print(a[np.arange(4), b]) \n",
    "\n",
    "# 可以进行运算\n",
    "a[np.arange(4), b] += 10\n",
    "print(a)"
   ]
  },
  {
   "cell_type": "markdown",
   "metadata": {},
   "source": [
    "## 数学"
   ]
  },
  {
   "cell_type": "markdown",
   "metadata": {},
   "source": [
    "#### 矩阵四则运算(非数学意义上的)"
   ]
  },
  {
   "cell_type": "code",
   "execution_count": 8,
   "metadata": {},
   "outputs": [
    {
     "name": "stdout",
     "output_type": "stream",
     "text": [
      "[[ 6.  8.]\n",
      " [10. 12.]]\n",
      "[[ 6.  8.]\n",
      " [10. 12.]]\n",
      "[[-4. -4.]\n",
      " [-4. -4.]]\n",
      "[[-4. -4.]\n",
      " [-4. -4.]]\n",
      "[[ 5. 12.]\n",
      " [21. 32.]]\n",
      "[[ 5. 12.]\n",
      " [21. 32.]]\n",
      "[[0.2        0.33333333]\n",
      " [0.42857143 0.5       ]]\n",
      "[[0.2        0.33333333]\n",
      " [0.42857143 0.5       ]]\n",
      "[[1.         1.41421356]\n",
      " [1.73205081 2.        ]]\n"
     ]
    }
   ],
   "source": [
    "x = np.array([[1, 2], [3, 4]], dtype=np.float64)\n",
    "y = np.array([[5, 6], [7, 8]], dtype=np.float64)\n",
    "\n",
    "# 矩阵各项相加\n",
    "print(x + y)\n",
    "print(np.add(x, y))\n",
    "\n",
    "# 矩阵各项相减\n",
    "print(x - y)\n",
    "print(np.subtract(x, y))\n",
    "\n",
    "# 矩阵各项相乘\n",
    "print(x * y)\n",
    "print(np.multiply(x, y))\n",
    "\n",
    "# 矩阵各项相除\n",
    "print(x / y)\n",
    "print(np.divide(x, y))\n",
    "\n",
    "# 矩阵各项开根号\n",
    "print(np.sqrt(x))"
   ]
  },
  {
   "cell_type": "markdown",
   "metadata": {},
   "source": [
    "#### 向量内积\n",
    "p = x1 * y1 + ..... + xn * yn"
   ]
  },
  {
   "cell_type": "code",
   "execution_count": 9,
   "metadata": {},
   "outputs": [
    {
     "name": "stdout",
     "output_type": "stream",
     "text": [
      "[[1. 2.]\n",
      " [3. 4.]]\n",
      "[[5. 6.]\n",
      " [7. 8.]]\n",
      "\n",
      "219\n",
      "219\n",
      "\n",
      "[29. 67.]\n",
      "[29. 67.]\n",
      "[[19. 22.]\n",
      " [43. 50.]]\n",
      "[[19. 22.]\n",
      " [43. 50.]]\n"
     ]
    }
   ],
   "source": [
    "print(x)\n",
    "print(y)\n",
    "print()\n",
    "\n",
    "v = np.array([9, 10])\n",
    "w = np.array([11, 12])\n",
    "\n",
    "# 计算向量内积\n",
    "print(v.dot(w))\n",
    "print(np.dot(v, w))\n",
    "print()\n",
    "\n",
    "# 同理于矩阵\n",
    "print(x.dot(v))\n",
    "print(np.dot(x, v))\n",
    "\n",
    "print(x.dot(y))\n",
    "print(np.dot(x, y))"
   ]
  },
  {
   "cell_type": "code",
   "execution_count": 10,
   "metadata": {},
   "outputs": [
    {
     "name": "stdout",
     "output_type": "stream",
     "text": [
      "[[1. 2.]\n",
      " [3. 4.]]\n",
      "10.0\n",
      "[4. 6.]\n",
      "[3. 7.]\n"
     ]
    }
   ],
   "source": [
    "print(x)\n",
    "\n",
    "print(np.sum(x))\n",
    "print(np.sum(x, axis=0))\n",
    "print(np.sum(x, axis=1))"
   ]
  },
  {
   "cell_type": "markdown",
   "metadata": {},
   "source": [
    "## 广播\n",
    "\n",
    "对于每一行添加一个常数向量\n",
    "我们可以按如下方法做\n",
    "### 第一种\n",
    "这会凑效; 但是当矩阵 x 非常大时，在Python中计算显式循环可能会很慢。<br>\n",
    "所以这种方法并**不推荐**使用"
   ]
  },
  {
   "cell_type": "code",
   "execution_count": 11,
   "metadata": {},
   "outputs": [
    {
     "name": "stdout",
     "output_type": "stream",
     "text": [
      "[[ 1  2  3]\n",
      " [ 4  5  6]\n",
      " [ 7  8  9]\n",
      " [10 11 12]]\n",
      "\n",
      "[1 0 1]\n",
      "\n",
      "[[ 2  2  4]\n",
      " [ 5  5  7]\n",
      " [ 8  8 10]\n",
      " [11 11 13]]\n"
     ]
    }
   ],
   "source": [
    "# 在x的每一行后添加一个向量v\n",
    "# 并将结果存到矩阵y中\n",
    "x = np.array([[1,2,3], [4,5,6], [7,8,9], [10, 11, 12]])\n",
    "print(x)\n",
    "v = np.array([1, 0, 1])\n",
    "print()\n",
    "print(v)\n",
    "print()\n",
    "y = np.empty_like(x)   # 创建跟x相同大小的空矩阵\n",
    "\n",
    "# 每一行都添加v\n",
    "for i in range(4):\n",
    "    y[i, :] = x[i, :] + v\n",
    "\n",
    "print(y)"
   ]
  },
  {
   "cell_type": "markdown",
   "metadata": {},
   "source": [
    "### 第二种\n",
    "注意，向矩阵 x 的每一行添加向量 v 等同于通过垂直堆叠多个 v 副本来形成矩阵 vv，然后执行元素的求和x 和 vv。<br>\n",
    "我们可以像如下这样实现这种方法：<br>\n",
    "这里其实是一个用**空间换取时间**的算法"
   ]
  },
  {
   "cell_type": "code",
   "execution_count": 12,
   "metadata": {},
   "outputs": [
    {
     "name": "stdout",
     "output_type": "stream",
     "text": [
      "[[ 1  2  3]\n",
      " [ 4  5  6]\n",
      " [ 7  8  9]\n",
      " [10 11 12]]\n",
      "\n",
      "[1 0 1]\n",
      "\n",
      "[[1 0 1]\n",
      " [1 0 1]\n",
      " [1 0 1]\n",
      " [1 0 1]]\n",
      "[[ 2  2  4]\n",
      " [ 5  5  7]\n",
      " [ 8  8 10]\n",
      " [11 11 13]]\n"
     ]
    }
   ],
   "source": [
    "print(x)\n",
    "print()\n",
    "print(v)\n",
    "\n",
    "# 将4个v向量堆叠在一起\n",
    "vv = np.tile(v, (4, 1))\n",
    "print()\n",
    "print(vv)\n",
    "\n",
    "y = x + vv\n",
    "print(y)"
   ]
  },
  {
   "cell_type": "markdown",
   "metadata": {},
   "source": [
    "### 第三种\n",
    "np里面允许我们在不创建多副本的情况下进行运算(可以不用更多的空间换取时间)<br>\n",
    "这就是**广播**\n",
    "广播遵循以下原则：\n",
    "1. 如果数组不具有相同的rank，则将较低等级数组的形状添加1，直到两个形状具有相同的长度。\n",
    "2. 如果两个数组在维度上具有相同的大小，或者如果其中一个数组在该维度中的大小为1，则称这两个数组在维度上是兼容的。\n",
    "3. 如果数组在所有维度上兼容，则可以一起广播。\n",
    "4. 广播之后，每个阵列的行为就好像它的形状等于两个输入数组的形状的元素最大值。\n",
    "5. 在一个数组的大小为1且另一个数组的大小大于1的任何维度中，第一个数组的行为就像沿着该维度复制一样"
   ]
  },
  {
   "cell_type": "code",
   "execution_count": 13,
   "metadata": {},
   "outputs": [
    {
     "name": "stdout",
     "output_type": "stream",
     "text": [
      "[[ 1  2  3]\n",
      " [ 4  5  6]\n",
      " [ 7  8  9]\n",
      " [10 11 12]]\n",
      "[1 0 1]\n",
      "[[ 2  2  4]\n",
      " [ 5  5  7]\n",
      " [ 8  8 10]\n",
      " [11 11 13]]\n"
     ]
    }
   ],
   "source": [
    "print(x)\n",
    "print(v)\n",
    "\n",
    "# 使用broadcast进行相加\n",
    "y = x + v\n",
    "print(y)"
   ]
  },
  {
   "cell_type": "code",
   "execution_count": null,
   "metadata": {},
   "outputs": [],
   "source": []
  },
  {
   "cell_type": "code",
   "execution_count": null,
   "metadata": {},
   "outputs": [],
   "source": []
  }
 ],
 "metadata": {
  "kernelspec": {
   "display_name": "Python 3",
   "language": "python",
   "name": "python3"
  },
  "language_info": {
   "codemirror_mode": {
    "name": "ipython",
    "version": 3
   },
   "file_extension": ".py",
   "mimetype": "text/x-python",
   "name": "python",
   "nbconvert_exporter": "python",
   "pygments_lexer": "ipython3",
   "version": "3.7.1"
  }
 },
 "nbformat": 4,
 "nbformat_minor": 2
}
